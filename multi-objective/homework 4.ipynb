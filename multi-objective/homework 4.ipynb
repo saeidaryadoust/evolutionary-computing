{
 "cells": [
  {
   "cell_type": "markdown",
   "id": "80fd3d04",
   "metadata": {},
   "source": [
    "import \n"
   ]
  },
  {
   "cell_type": "code",
   "execution_count": 2,
   "id": "ed57d2e3",
   "metadata": {},
   "outputs": [],
   "source": [
    "import numpy as np\n",
    "import pandas as pd\n",
    "from sklearn.preprocessing import StandardScaler\n",
    "from sklearn.neighbors import KNeighborsClassifier\n",
    "import matplotlib.pyplot as plt\n",
    "from pymoo.indicators.hv import Hypervolume"
   ]
  },
  {
   "cell_type": "markdown",
   "id": "45251877",
   "metadata": {},
   "source": [
    "Individual"
   ]
  },
  {
   "cell_type": "code",
   "execution_count": null,
   "id": "318e6f08",
   "metadata": {},
   "outputs": [],
   "source": [
    "class Individual:\n",
    "    def __init__(self, chromosome):\n",
    "        self.chromosome = chromosome\n",
    "        self.objectives = []\n",
    "        self.dominated_by = set()\n",
    "        self.dominates = 0\n",
    "        self.rank = 0\n",
    "df = pd.read_csv ('DS02.csv' , header=0)\n",
    "df = df.reindex (np.random.permutation(df.index))\n",
    "df = df.reset_index(drop=True)\n",
    "def initialize_population(pop_size, chromosome_length):\n",
    "    population = [Individual(np.random.randint(low=0 , high=2, size=chromosome_length)) for _ in range(pop_size)]\n",
    "    return population"
   ]
  },
  {
   "cell_type": "markdown",
   "id": "da267b50",
   "metadata": {},
   "source": [
    "mutation"
   ]
  },
  {
   "cell_type": "code",
   "execution_count": null,
   "id": "d6796cde",
   "metadata": {},
   "outputs": [],
   "source": [
    "def flip (x):\n",
    "    if x ==0:\n",
    "        return 1\n",
    "    else:\n",
    "        return 0\n",
    "def mutation(ind, m_rate):\n",
    "    m_chromosome = ind.chromosome.copy()\n",
    "    for i in range(len(m_chromosome)):\n",
    "        if np.random.rand() < m_rate:\n",
    "            m_chromosome[i] = flip(m_chromosome[i])\n",
    "    return Individual(m_chromosome)"
   ]
  },
  {
   "cell_type": "markdown",
   "id": "5f85c476",
   "metadata": {},
   "source": [
    "crowding_distance"
   ]
  },
  {
   "cell_type": "code",
   "execution_count": null,
   "id": "76a6b831",
   "metadata": {},
   "outputs": [],
   "source": [
    "def crowding_distance(front):\n",
    "    front_size = len(front)\n",
    "    dis = np.zeros(front_size)\n",
    "\n",
    "    for m in range(len(front[0].objectives)):\n",
    "        sorted_front = sorted(front, key=lambda ind: ind.objectives[m])\n",
    "        dis[0] = dis[-1] = float('inf')\n",
    "\n",
    "        for i in range(1, front_size - 1):\n",
    "            dis[i] += sorted_front[i + 1].objectives[m] - sorted_front[i - 1].objectives[m]\n",
    "\n",
    "    return sorted(zip(front, dis), key=lambda x: x[1], reverse=True)"
   ]
  },
  {
   "cell_type": "markdown",
   "id": "8d9a378b",
   "metadata": {},
   "source": [
    "selection"
   ]
  },
  {
   "cell_type": "code",
   "execution_count": null,
   "id": "9eed8d56",
   "metadata": {},
   "outputs": [],
   "source": [
    "def environmental_selection( pop , pop_size ):\n",
    "    remaining_pop = []\n",
    "    i = 0\n",
    "    while len(remaining_pop) + len(pop[i]) <= pop_size:\n",
    "        remaining_pop.extend(pop[i])\n",
    "        i += 1\n",
    "    if len(remaining_pop) < pop_size:\n",
    "        sorted_front = crowding_distance (pop[i])\n",
    "        remaining_pop.extend(sorted_front[j][0] for j in range(pop_size - len(remaining_pop)))\n",
    "\n",
    "    return remaining_pop"
   ]
  },
  {
   "cell_type": "markdown",
   "id": "9bcbf539",
   "metadata": {},
   "source": [
    "non_dominated_sorting & dominate"
   ]
  },
  {
   "cell_type": "code",
   "execution_count": null,
   "id": "614d6a3d",
   "metadata": {},
   "outputs": [],
   "source": [
    "def non_dominated_sorting(pop):\n",
    "    fronts = [[]]\n",
    "    for ind in pop:\n",
    "        ind.dominated_by = set()\n",
    "        ind.dominates = 0\n",
    "        for s in pop:\n",
    "            if ind != s :\n",
    "                if all(ind.objectives[i] <= s.objectives[i] for i in range(len(ind.objectives))):\n",
    "                    ind.dominated_by.add(s)\n",
    "                elif all(ind.objectives[i] >= s.objectives[i] for i in range(len(ind.objectives))):\n",
    "                    ind.dominates += 1\n",
    "        if ind.dominates == 0:\n",
    "            ind.rank = 0\n",
    "            fronts[0].append(ind)\n",
    "\n",
    "    i = 0\n",
    "    while fronts[i]:\n",
    "        FN = []\n",
    "        for ind in fronts[i]:\n",
    "            for s in ind.dominated_by:\n",
    "                s.dominates -= 1\n",
    "                if s.dominates == 0:\n",
    "                    s.rank = i + 1\n",
    "                    FN.append(s)\n",
    "        i += 1\n",
    "        fronts.append(FN)\n",
    "    fronts = fronts[:-1]\n",
    "    return fronts\n",
    "\n",
    "def dominate ( ind1 , ind2):\n",
    "        return all (ind1.objectives[i]<=ind2.objectives[i] for i in range(len(ind1.objectives)))"
   ]
  },
  {
   "cell_type": "markdown",
   "id": "a1864609",
   "metadata": {},
   "source": [
    "Roulette_wheel_selection"
   ]
  },
  {
   "cell_type": "code",
   "execution_count": null,
   "id": "24096496",
   "metadata": {},
   "outputs": [],
   "source": [
    "def Roulette_wheel_selection(p , Q):\n",
    "    probability_sum = [sum(p[:i+1]) for i in range(Q)]\n",
    "    rand = np.random.rand()\n",
    "    for i, next in enumerate(probability_sum):\n",
    "        if rand <= next:\n",
    "            o_idx = i+1\n",
    "            break\n",
    "    \n",
    "    return o_idx"
   ]
  },
  {
   "cell_type": "markdown",
   "id": "7069fb53",
   "metadata": {},
   "source": [
    "cross_over"
   ]
  },
  {
   "cell_type": "code",
   "execution_count": null,
   "id": "953a44cb",
   "metadata": {},
   "outputs": [],
   "source": [
    "def initOSP(Q):\n",
    "        return [1/Q for i in range (Q)]\n",
    "def one_point_crossover(p1, p2):\n",
    "        child_1 , child_2 = None , None\n",
    "        points = np.random.randint(low=0 , high=len(p1.chromosome)+1)\n",
    "        child_1 = (p1.chromosome[0:points] + p2.chromosome[points: ])\n",
    "        child_2 = (p2.chromosome[0:points] + p1.chromosome[points: ])\n",
    "        child_1 , child_2 = Individual(child_1) , Individual(child_2)\n",
    "        return child_1 , child_2\n",
    "def two_point_crossover(p1 ,p2):\n",
    "        child_1 , child_2 = None , None\n",
    "        points = [[np.random.randint(low=0 , high=len(p1.chromosome)+1)] for x in range(2)]\n",
    "        points.sort(key=lambda x:x)\n",
    "        child_1 = (p1.chromosome[0:points[0][0]] + p2.chromosome[points[0][0]:points[1][0]]+ p1.chromosome[points[1][0]: ] )\n",
    "        child_2 = (p2.chromosome[0:points[0][0]] + p1.chromosome[points[0][0]:points[1][0]]+ p2.chromosome[points[1][0]: ] )\n",
    "        child_1 , child_2 = Individual(child_1) , Individual(child_2)\n",
    "        return child_1 , child_2\n",
    "    \n",
    "def uniform_crossover( p1 , p2):\n",
    "\n",
    "\n",
    "    child_1 , child_2 = [] , []\n",
    "    for i in range (len(p1.chromosome)):\n",
    "        if (np.random.random()<0.50):\n",
    "            child_1.append(p1.chromosome[i])\n",
    "            child_2.append(p2.chromosome[i])\n",
    "        else:\n",
    "            child_1.append(p2.chromosome[i])\n",
    "            child_2.append(p1.chromosome[i])\n",
    "    child_1 , child_2 = Individual(child_1) , Individual(child_2)\n",
    "    return child_1  , child_2\n",
    "\n",
    "def shuffle_crossover(p1, p2):\n",
    "\n",
    "    lst_1 , lst_2 = p1.chromosome , p2.chromosome\n",
    "    np.random.shuffle(lst_1)\n",
    "    np.random.shuffle(lst_2)\n",
    "    child_1 , child_2 = [] , []\n",
    "    for i in range (len(lst_1)):\n",
    "        if (np.random.random()<0.50):\n",
    "            child_1.append(lst_1[i])\n",
    "            child_2.append(lst_2[i])\n",
    "        else:\n",
    "            child_1.append(lst_2[i])\n",
    "            child_2.append(lst_1[i])\n",
    "    child_1 , child_2 = Individual(child_1) , Individual(child_2)\n",
    "    return child_1 , child_2\n",
    "\n",
    "def reduced_surrogate_crossover(p1, p2):\n",
    "    tmp_list_1 = []\n",
    "    for index in range(len(p1.chromosome)-1):\n",
    "        if p1.chromosome[index] != p1.chromosome[index+1] and p2.chromosome[index] != p2.chromosome[index+1]:\n",
    "            tmp_list_1.append(index+1)\n",
    "    if (len(tmp_list_1) != 0):\n",
    "        point = np.random.choice(tmp_list_1)\n",
    "        child_1 = (p1.chromosome[0:point] + p2.chromosome[point: ])\n",
    "        child_2 = (p2.chromosome[0:point] + p1.chromosome[point: ])\n",
    "        child_1 , child_2 = Individual(child_1) , Individual(child_2)\n",
    "    else:\n",
    "        child_1 ,child_2 = Individual(p1.chromosome) , Individual(p2.chromosome)\n",
    "    return child_1 , child_2\n",
    "\n",
    "def Crossover(parents , idx , c_rate):\n",
    "    if (np.random.rand()<c_rate):\n",
    "        match idx:\n",
    "            case 1:\n",
    "                return one_point_crossover(p1=parents[0] , p2=parents[1])\n",
    "            case 2:\n",
    "                return two_point_crossover(p1=parents[0] , p2=parents[1])\n",
    "            case 3:\n",
    "                return uniform_crossover(p1=parents[0] , p2=parents[1])\n",
    "            case 4:\n",
    "                return shuffle_crossover(p1=parents[0] , p2=parents[1])\n",
    "            case 5:\n",
    "                return reduced_surrogate_crossover (p1=parents[0] , p2=parents[1])\n",
    "            case default:\n",
    "                return None\n",
    "    else:\n",
    "        return parents"
   ]
  },
  {
   "cell_type": "markdown",
   "id": "8b99bb78",
   "metadata": {},
   "source": [
    "Update_OSP"
   ]
  },
  {
   "cell_type": "code",
   "execution_count": null,
   "id": "e75cc370",
   "metadata": {},
   "outputs": [],
   "source": [
    "def Update_OSP(RD , PN  , Q):\n",
    "    \n",
    "    lst = []\n",
    "    for q in range (Q):\n",
    "        S1_q = sum ([row[q] for row in RD])\n",
    "        S2_q = sum ([row[q] for row in PN])\n",
    "        if S1_q == 0: \n",
    "            S3_q = .0001\n",
    "        else:\n",
    "            S3_q = S1_q\n",
    "        S4_q = S1_q / (S2_q + S3_q)\n",
    "        lst.append(S4_q)\n",
    "    P_q = [(p_q / sum(lst)) for p_q in lst]\n",
    "    return P_q"
   ]
  },
  {
   "cell_type": "markdown",
   "id": "b4e6febe",
   "metadata": {},
   "source": [
    "fitness_evaluation"
   ]
  },
  {
   "cell_type": "code",
   "execution_count": null,
   "id": "eefe1c18",
   "metadata": {},
   "outputs": [],
   "source": [
    "def fitness_evaluation( ind ):\n",
    "    fp = ind.chromosome\n",
    "    cl = [ x for x in range(len(fp))  if fp[x]==1 ]\n",
    "    cl.append(df.shape[1]-1)\n",
    "    data = df.iloc[: , cl]\n",
    "    folds = []\n",
    "    folds.append(data.iloc[0:np.floor(len(data)/3).astype(int)])\n",
    "    folds.append(data.iloc[np.floor(len(data)/3).astype(int):np.floor(2*len(data)/3).astype(int)])\n",
    "    folds.append(data.iloc[np.floor(2*len(data)/3).astype(int):])\n",
    "    train_v , test_v = [] , []\n",
    "    train_v.append((pd.concat([folds[0] , folds[1]] , axis=0  )).reset_index(drop=True)) ; test_v.append((folds[2]).reset_index(drop=True))\n",
    "    train_v.append((pd.concat([folds[0] , folds[2]] , axis=0  )).reset_index(drop=True)) ; test_v.append((folds[1]).reset_index(drop=True))\n",
    "    train_v.append((pd.concat([folds[1] , folds[2]] , axis=0  )).reset_index(drop=True)) ; test_v.append((folds[0]).reset_index(drop=True))\n",
    "    fold_result = []\n",
    "    for X_train , X_test in zip (train_v ,test_v ):\n",
    "\n",
    "        scaler  = StandardScaler()\n",
    "        y_train = X_train.iloc[:,X_train.shape[1]-1:]\n",
    "        y_train = (np.array(y_train)).reshape(-1)\n",
    "        X_train = X_train.iloc[:,:-1]\n",
    "        X_train = np.array(X_train)\n",
    "        y_test  = X_test.iloc[:,X_test.shape[1]-1:]\n",
    "        y_test  = (np.array(y_test)).reshape(-1)\n",
    "        X_test  = X_test.iloc[:,:-1]\n",
    "        X_test  = np.array(X_test)\n",
    "        X_train = scaler.fit_transform(X_train)\n",
    "        X_test = scaler.fit_transform(X_test)\n",
    "        knn = KNeighborsClassifier (n_neighbors= 3)\n",
    "        knn.fit(X_train , y_train)\n",
    "        y_pred = knn.predict(X_test)\n",
    "        wrong  = 0\n",
    "        all_instances = len(X_train) + len(X_test)\n",
    "        for p , y in zip (y_pred , np.array(y_test)):\n",
    "            if p != y:\n",
    "                wrong += 1\n",
    "        fold_result.append((wrong/all_instances) * 100)\n",
    "    f1 = np.average(fold_result)\n",
    "    f2 = sum(ind.chromosome)\n",
    "    return f1 , f2"
   ]
  },
  {
   "cell_type": "markdown",
   "id": "99ab2c4c",
   "metadata": {},
   "source": [
    "uniform_mutation"
   ]
  },
  {
   "cell_type": "code",
   "execution_count": null,
   "id": "e2aa376b",
   "metadata": {},
   "outputs": [],
   "source": [
    "def uniform_mutation( p , m_rate ):\n",
    "    lst = []\n",
    "    for ind in p:\n",
    "        tmp = []\n",
    "        for i in range(len(ind.chromosome)):\n",
    "            if(np.random.random() < m_rate ):\n",
    "                tmp.append( int (ind.chromosome[i] ^ True) )\n",
    "            else:\n",
    "                tmp.append(ind.chromosome[i])\n",
    "        lst.append(tmp)\n",
    "    chromosome_list = []\n",
    "    for i in lst:\n",
    "        chromosome_list.append(Individual(i))\n",
    "    return chromosome_list"
   ]
  },
  {
   "cell_type": "markdown",
   "id": "4c07113f",
   "metadata": {},
   "source": [
    "dominanceComparison"
   ]
  },
  {
   "cell_type": "code",
   "execution_count": null,
   "id": "bd6cf05a",
   "metadata": {},
   "outputs": [],
   "source": [
    "def dominanceComparison ( p ):\n",
    "\n",
    "    p_dominated , p_non_dominated = [] , []\n",
    "    for j in p:\n",
    "        for ind in p:\n",
    "            if j != ind:\n",
    "                if all(j.objectives[i]<= ind.objectives[i] for i in range(len(j.objectives))):\n",
    "                    p_non_dominated.append(j)\n",
    "                elif all(j.objectives[i]>=ind.objectives[i] for i in range(len(j.objectives))):\n",
    "                    p_dominated.append(j)\n",
    "    return p_dominated , p_non_dominated\n",
    "\n",
    "def CreditAssignment(P , R  , np , nr , operator_idx):\n",
    "       \n",
    "        nPenalty , nReward = np.copy() , nr.copy()\n",
    "        for ind in R:\n",
    "            if len(ind.objectives) == 0 :\n",
    "                ind.objectives = fitness_evaluation(ind)\n",
    "        P_d , P_nd = dominanceComparison(P)\n",
    "        if len(P_d) != 0: .\n",
    "            for i in range (2):\n",
    "                if (dominate ( P_d[0] , R[i] )):\n",
    "                    nPenalty[operator_idx-1] = nPenalty[operator_idx-1] + 1\n",
    "                else:\n",
    "                    nReward[operator_idx-1]  = nReward[operator_idx-1] + 1\n",
    "        else: \n",
    "            for i in range (2):\n",
    "                if (not dominate (P[0] , R[i]) and not dominate (P[1] , R[i])) :\n",
    "                    nReward[operator_idx-1]  = nReward[operator_idx-1] + 1\n",
    "                else :\n",
    "                    nPenalty[operator_idx-1] = nPenalty[operator_idx-1] + 1\n",
    "\n",
    "        return nReward , nPenalty"
   ]
  },
  {
   "cell_type": "markdown",
   "id": "66b7fca7",
   "metadata": {},
   "source": [
    "MOBGA_AOS"
   ]
  },
  {
   "cell_type": "code",
   "execution_count": null,
   "id": "1eba6a0a",
   "metadata": {},
   "outputs": [],
   "source": [
    "def MOBGA_AOS( crossover_rate, mutation_rate , maxFEs , Q , N , D , LP ):\n",
    "    k , nFE , p_new , f0 = 0 , 0 , [] , 0\n",
    "    p = [Individual([np.random.randint(low=0 , high=2) for _ in range (D)]) for _ in range(N)]\n",
    "    for i in p :\n",
    "        i.objectives = fitness_evaluation(i)\n",
    "    nReward , nPenalty  , RD , PN = [0 for _ in range(Q)] , [0 for _ in range(Q)] , np.zeros((LP , Q)) , np.zeros((LP , Q))\n",
    "    while nFE < maxFEs:\n",
    "        p_new = []\n",
    "        for i in range((np.floor(N/2)).astype(int)):\n",
    "            pv = initOSP(Q)\n",
    "            idx = Roulette_wheel_selection(pv,Q)\n",
    "            P_p = [p[np.random.randint(low=0 , high=len(p))] for _ in range(2)]\n",
    "            P_c = Crossover(P_p ,idx=idx , c_rate=crossover_rate )\n",
    "            P_c = uniform_mutation (P_c , mutation_rate) \n",
    "            for i in range(len(P_c)):\n",
    "                while all(P_c[i].chromosome[j] == 0 for j in range (len(P_c[i].chromosome))):\n",
    "                    P_c[i] = (uniform_mutation( [P_c[i]] , 0.1))[0]\n",
    "            nFE += 2\n",
    "            nReward , nPenalty =CreditAssignment(P_p , P_c , operator_idx=idx , np=nPenalty , nr=nReward)\n",
    "            p_new.extend(P_c)\n",
    "        k +=1\n",
    "        RD [k-1] = nReward\n",
    "        PN [k-1] = nPenalty\n",
    "        if k == LP:\n",
    "            pv = Update_OSP(RD , PN , Q) \n",
    "            k=0\n",
    "        R = p + p_new \n",
    "        front = non_dominated_sorting (R)\n",
    "        PF = environmental_selection(front , N )\n",
    "        p = PF\n",
    "        f0  = front[0]\n",
    "    optimal_feature_subset = PF\n",
    "    return optimal_feature_subset  , f0\n",
    "\n",
    "\n",
    "c_rate = 0.9\n",
    "D = len(df.columns)-1\n",
    "maxFEs = 3000\n",
    "pop_size = 100\n",
    "number_of_objectives = 2\n",
    "number_of_CrossOver_function = 5\n",
    "LP = 5\n",
    "m_rate = 1/D\n",
    "optimal_subset  , front_pareto = MOBGA_AOS (crossover_rate=c_rate , mutation_rate=m_rate,maxFEs=maxFEs , Q=number_of_CrossOver_function , N=pop_size , D=D , LP=LP)\n",
    "x = [x.objectives[0] for x in front_pareto]\n",
    "y = [x.objectives[1] for x in front_pareto]\n",
    "plt.scatter(y, x , marker='o')\n",
    "plt.xlabel('Solution size')\n",
    "plt.ylabel('Classification Error')\n",
    "plt.show()\n",
    "\n",
    "mean = np.mean(hv)\n",
    "std = np.std(hv)\n",
    "x = [x.objectives[0] for x in front_pareto]\n",
    "y = [x.objectives[1] for x in front_pareto]\n",
    "plt.scatter(y, x , marker='o')\n",
    "plt.xlabel('Solution size')\n",
    "plt.ylabel('Classification Error')\n",
    "plt.show()"
   ]
  },
  {
   "cell_type": "code",
   "execution_count": null,
   "id": "b5a9849b",
   "metadata": {},
   "outputs": [],
   "source": []
  },
  {
   "cell_type": "code",
   "execution_count": null,
   "id": "5c131ed4",
   "metadata": {},
   "outputs": [],
   "source": []
  }
 ],
 "metadata": {
  "kernelspec": {
   "display_name": "Python 3 (ipykernel)",
   "language": "python",
   "name": "python3"
  },
  "language_info": {
   "codemirror_mode": {
    "name": "ipython",
    "version": 3
   },
   "file_extension": ".py",
   "mimetype": "text/x-python",
   "name": "python",
   "nbconvert_exporter": "python",
   "pygments_lexer": "ipython3",
   "version": "3.10.4"
  }
 },
 "nbformat": 4,
 "nbformat_minor": 5
}
